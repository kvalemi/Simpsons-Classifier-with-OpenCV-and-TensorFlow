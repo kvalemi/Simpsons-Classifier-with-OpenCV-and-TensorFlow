{
 "cells": [
  {
   "cell_type": "code",
   "execution_count": null,
   "metadata": {},
   "outputs": [],
   "source": [
    "# import libraries\n",
    "import os\n",
    "import caer\n",
    "import canaro\n",
    "import numpy as np\n",
    "import cv2 as cv\n",
    "import gc\n",
    "from tensorflow.keras.utils import to_categorical\n",
    "from sklearn.model_selection import train_test_split\n",
    "from tensorflow.keras.callbacks import LearningRateScheduler"
   ]
  },
  {
   "cell_type": "code",
   "execution_count": null,
   "metadata": {},
   "outputs": [],
   "source": [
    "# Input picture and model initialization variables\n",
    "IMG_SIZE = (80, 80)\n",
    "channels = 1\n",
    "char_path = r'../input/the-simpsons-characters-dataset/simpsons_dataset'\n",
    "BATCH_SIZE = 32\n",
    "EPOCHS = 10"
   ]
  },
  {
   "cell_type": "code",
   "execution_count": null,
   "metadata": {},
   "outputs": [],
   "source": [
    "# create dictionary of characters and image count\n",
    "char_dict = {}\n",
    "\n",
    "for char in os.listdir(char_path):\n",
    "    char_dict[char] = len(os.listdir(os.path.join(char_path, char)))\n",
    "    \n",
    "# Sort the dictionary in descending order\n",
    "char_dict = caer.sort_dict(char_dict, descending = True)\n",
    "\n",
    "# print(char_dict)"
   ]
  },
  {
   "cell_type": "code",
   "execution_count": null,
   "metadata": {},
   "outputs": [],
   "source": [
    "# obtain name of characters\n",
    "characters = []\n",
    "count = 0\n",
    "for i in char_dict:\n",
    "    characters.append(i[0])\n",
    "    count += 1\n",
    "    if count >= 10:\n",
    "        break\n",
    "        \n",
    "# print(characters)"
   ]
  },
  {
   "cell_type": "code",
   "execution_count": null,
   "metadata": {},
   "outputs": [],
   "source": [
    "# create overall dataset\n",
    "train = caer.preprocess_from_dir(char_path, characters, channels=channels, IMG_SIZE=IMG_SIZE, isShuffle=True)"
   ]
  },
  {
   "cell_type": "code",
   "execution_count": null,
   "metadata": {},
   "outputs": [],
   "source": [
    "# obtain features and associated labels\n",
    "featureSet, labels = caer.sep_train(train, IMG_SIZE=IMG_SIZE)\n",
    "\n",
    "# normalize the feature set to  be between (0,1)\n",
    "featureSet = caer.normalize(featureSet)\n",
    "\n",
    "# one hot encode the label for efficiency\n",
    "labels = to_categorical(labels, len(characters))"
   ]
  },
  {
   "cell_type": "code",
   "execution_count": null,
   "metadata": {},
   "outputs": [],
   "source": [
    "# split into training and validation\n",
    "x_train, x_val, y_train, y_val = train_test_split(featureSet, labels)"
   ]
  },
  {
   "cell_type": "code",
   "execution_count": null,
   "metadata": {},
   "outputs": [],
   "source": [
    "# delete any unneccessary data (optinal)\n",
    "#del train\n",
    "#del featureSet\n",
    "#del labels\n",
    "#gc.collect()"
   ]
  },
  {
   "cell_type": "code",
   "execution_count": null,
   "metadata": {},
   "outputs": [],
   "source": [
    "# create image data generator pipeline\n",
    "datagen = canaro.generators.imageDataGenerator()\n",
    "train_gen = datagen.flow(x_train, y_train, batch_size=BATCH_SIZE)"
   ]
  },
  {
   "cell_type": "code",
   "execution_count": null,
   "metadata": {},
   "outputs": [],
   "source": [
    "# Sepcifying our model\n",
    "model = canaro.models.createSimpsonsModel(IMG_SIZE=IMG_SIZE, \n",
    "                                          channels=channels, \n",
    "                                          output_dim=len(characters), \n",
    "                                          loss='binary_crossentropy', \n",
    "                                          decay=1e-7, \n",
    "                                          learning_rate=0.001, \n",
    "                                          momentum=0.9,\n",
    "                                          nesterov=True)\n",
    "\n",
    "model.summary()\n",
    ";"
   ]
  },
  {
   "cell_type": "code",
   "execution_count": null,
   "metadata": {},
   "outputs": [],
   "source": [
    "# Learning Rate Scheduler\n",
    "callback_list = [LearningRateScheduler(canaro.lr_scheduler)]"
   ]
  },
  {
   "cell_type": "code",
   "execution_count": null,
   "metadata": {},
   "outputs": [],
   "source": [
    "# train the model on training data\n",
    "training = model.fit(train_gen,\n",
    "                    steps_per_epoch = len(x_train)//BATCH_SIZE,\n",
    "                    epochs=EPOCHS,\n",
    "                    validation_data = (x.val, y_val),\n",
    "                    validation_steps = len(y_val)//BATCH_SIZE,\n",
    "                    callbacks = callbacks_list)"
   ]
  },
  {
   "cell_type": "code",
   "execution_count": null,
   "metadata": {},
   "outputs": [],
   "source": [
    "# image preparation function/pipeline\n",
    "def prepare(img:):\n",
    "    img = cv.cvtColor(img, cv.COLOR_BGR2GRAY)\n",
    "    img = cv.resize(img, IMG_SIZE)\n",
    "    img = caer.reshape(img, IMG_SIZE, channels)\n",
    "    return img\n",
    "\n",
    "## Testing the model ##\n",
    "test_path = r'../input/the-simpsons-characters-dataset/simpsons_dataset/homer_simpson/pic_0002.jpg'\n",
    "img = cv.imread(test_path)\n",
    "predictions = model.predict(prepare(img))\n",
    "print(characters[np.argmax(predictions[0])])\n"
   ]
  },
  {
   "cell_type": "code",
   "execution_count": null,
   "metadata": {},
   "outputs": [],
   "source": []
  }
 ],
 "metadata": {
  "kernelspec": {
   "display_name": "Python 3",
   "language": "python",
   "name": "python3"
  },
  "language_info": {
   "codemirror_mode": {
    "name": "ipython",
    "version": 3
   },
   "file_extension": ".py",
   "mimetype": "text/x-python",
   "name": "python",
   "nbconvert_exporter": "python",
   "pygments_lexer": "ipython3",
   "version": "3.8.3"
  }
 },
 "nbformat": 4,
 "nbformat_minor": 4
}
